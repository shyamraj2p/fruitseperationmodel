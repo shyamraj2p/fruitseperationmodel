{
  "nbformat": 4,
  "nbformat_minor": 0,
  "metadata": {
    "colab": {
      "provenance": []
    },
    "kernelspec": {
      "name": "python3",
      "display_name": "Python 3"
    },
    "language_info": {
      "name": "python"
    }
  },
  "cells": [
    {
      "cell_type": "code",
      "execution_count": null,
      "metadata": {
        "id": "aUE_WApCxYlq"
      },
      "outputs": [],
      "source": [
        "from picamera import PiCamera\n",
        "from time import sleep\n",
        "import os\n",
        "\n",
        "camera = PiCamera()\n",
        "\n",
        "camera.resolution = (640, 480)\n",
        "\n",
        "if not os.path.exists('captured_images'):\n",
        "    os.makedirs('captured_images')\n",
        "\n",
        "def capture_image(image_name):\n",
        "\n",
        "    image_path = f'captured_images/{image_name}.jpg'\n",
        "    camera.start_preview()\n",
        "    sleep(2)\n",
        "    camera.capture(image_path)\n",
        "    camera.stop_preview()\n",
        "    print(f\"Image saved as {image_path}\")\n",
        "    return image_path\n",
        "\n",
        "image_path = capture_image('vegetable_sample')\n"
      ]
    },
    {
      "cell_type": "code",
      "source": [
        "\n",
        "scp model.h5 pi@raspberrypi:/home/pi/vegetable_sorter/\n"
      ],
      "metadata": {
        "id": "rbxEeqE4xrIo"
      },
      "execution_count": null,
      "outputs": []
    },
    {
      "cell_type": "code",
      "source": [
        "import tensorflow as tf\n",
        "from tensorflow.keras.preprocessing import image\n",
        "import numpy as np\n",
        "\n",
        "model = tf.keras.models.load_model('model.h5')\n",
        "\n",
        "\n",
        "class_names = ['carrot', 'tomato', 'broccoli', 'pepper', 'eggplant']\n",
        "\n",
        "def load_and_preprocess_image(image_path):\n",
        "\n",
        "    img = image.load_img(image_path, target_size=(64, 64))\n",
        "    img_array = image.img_to_array(img)\n",
        "    img_array = np.expand_dims(img_array, axis=0)\n",
        "    img_array /= 255.0\n",
        "    return img_array\n",
        "\n",
        "def classify_image(model, image_path):\n",
        "    img_array = load_and_preprocess_image(image_path)\n",
        "    predictions = model.predict(img_array)\n",
        "    predicted_class = class_names[np.argmax(predictions)]\n",
        "    confidence = np.max(predictions)\n",
        "    return predicted_class, confidence\n",
        "\n",
        "\n",
        "predicted_class, confidence = classify_image(model, image_path)\n",
        "print(f\"Predicted vegetable: {predicted_class} with confidence: {confidence:.2f}\")\n"
      ],
      "metadata": {
        "id": "guu6Ov6LxuWp"
      },
      "execution_count": null,
      "outputs": []
    },
    {
      "cell_type": "code",
      "source": [
        "import RPi.GPIO as GPIO\n",
        "import time\n",
        "\n",
        "# GPIO setup\n",
        "GPIO.setmode(GPIO.BCM)\n",
        "\n",
        "# Define GPIO pins for motors (change these as per your wiring)\n",
        "motor_pin_carrot = 17\n",
        "motor_pin_tomato = 27\n",
        "motor_pin_broccoli = 22\n",
        "motor_pin_pepper = 23\n",
        "motor_pin_eggplant = 24\n",
        "\n",
        "# Setup motor GPIO pins\n",
        "GPIO.setup(motor_pin_carrot, GPIO.OUT)\n",
        "GPIO.setup(motor_pin_tomato, GPIO.OUT)\n",
        "GPIO.setup(motor_pin_broccoli, GPIO.OUT)\n",
        "GPIO.setup(motor_pin_pepper, GPIO.OUT)\n",
        "GPIO.setup(motor_pin_eggplant, GPIO.OUT)\n",
        "\n",
        "def activate_motor(vegetable_class):\n",
        "    if vegetable_class == 'carrot':\n",
        "        GPIO.output(motor_pin_carrot, GPIO.HIGH)\n",
        "        time.sleep(2)  # Run motor for 2 seconds\n",
        "        GPIO.output(motor_pin_carrot, GPIO.LOW)\n",
        "    elif vegetable_class == 'tomato':\n",
        "        GPIO.output(motor_pin_tomato, GPIO.HIGH)\n",
        "        time.sleep(2)\n",
        "        GPIO.output(motor_pin_tomato, GPIO.LOW)\n",
        "    elif vegetable_class == 'broccoli':\n",
        "        GPIO.output(motor_pin_broccoli, GPIO.HIGH)\n",
        "        time.sleep(2)\n",
        "        GPIO.output(motor_pin_broccoli, GPIO.LOW)\n",
        "    elif vegetable_class == 'pepper':\n",
        "        GPIO.output(motor_pin_pepper, GPIO.HIGH)\n",
        "        time.sleep(2)\n",
        "        GPIO.output(motor_pin_pepper, GPIO.LOW)\n",
        "    elif vegetable_class == 'eggplant':\n",
        "        GPIO.output(motor_pin_eggplant, GPIO.HIGH)\n",
        "        time.sleep(2)\n",
        "        GPIO.output(motor_pin_eggplant, GPIO.LOW)\n",
        "    else:\n",
        "        print(\"Unknown vegetable class!\")\n",
        "\n",
        "activate_motor(predicted_class)\n",
        "\n",
        "GPIO.cleanup()\n"
      ],
      "metadata": {
        "id": "YVibMZgFx5My"
      },
      "execution_count": null,
      "outputs": []
    },
    {
      "cell_type": "code",
      "source": [
        "import RPi.GPIO as GPIO\n",
        "import time\n",
        "\n",
        "# GPIO setup\n",
        "GPIO.setmode(GPIO.BCM)\n",
        "\n",
        "# Define GPIO pins for motors (change these as per your wiring)\n",
        "motor_pin_carrot = 17\n",
        "motor_pin_tomato = 27\n",
        "motor_pin_broccoli = 22\n",
        "motor_pin_pepper = 23\n",
        "motor_pin_eggplant = 24\n",
        "\n",
        "# Setup motor GPIO pins\n",
        "GPIO.setup(motor_pin_carrot, GPIO.OUT)\n",
        "GPIO.setup(motor_pin_tomato, GPIO.OUT)\n",
        "GPIO.setup(motor_pin_broccoli, GPIO.OUT)\n",
        "GPIO.setup(motor_pin_pepper, GPIO.OUT)\n",
        "GPIO.setup(motor_pin_eggplant, GPIO.OUT)\n",
        "\n",
        "def activate_motor(vegetable_class):\n",
        "    if vegetable_class == 'carrot':\n",
        "        GPIO.output(motor_pin_carrot, GPIO.HIGH)\n",
        "        time.sleep(2)  # Run motor for 2 seconds\n",
        "        GPIO.output(motor_pin_carrot, GPIO.LOW)\n",
        "    elif vegetable_class == 'tomato':\n",
        "        GPIO.output(motor_pin_tomato, GPIO.HIGH)\n",
        "        time.sleep(2)\n",
        "        GPIO.output(motor_pin_tomato, GPIO.LOW)\n",
        "    elif vegetable_class == 'broccoli':\n",
        "        GPIO.output(motor_pin_broccoli, GPIO.HIGH)\n",
        "        time.sleep(2)\n",
        "        GPIO.output(motor_pin_broccoli, GPIO.LOW)\n",
        "    elif vegetable_class == 'pepper':\n",
        "        GPIO.output(motor_pin_pepper, GPIO.HIGH)\n",
        "        time.sleep(2)\n",
        "        GPIO.output(motor_pin_pepper, GPIO.LOW)\n",
        "    elif vegetable_class == 'eggplant':\n",
        "        GPIO.output(motor_pin_eggplant, GPIO.HIGH)\n",
        "        time.sleep(2)\n",
        "        GPIO.output(motor_pin_eggplant, GPIO.LOW)\n",
        "    else:\n",
        "        print(\"Unknown vegetable class!\")\n",
        "\n",
        "activate_motor(predicted_class)\n",
        "\n",
        "GPIO.cleanup()\n"
      ],
      "metadata": {
        "id": "IhnaFOUjx9ul"
      },
      "execution_count": null,
      "outputs": []
    },
    {
      "cell_type": "code",
      "source": [
        "sudo pip3 install tensorflow pillow RPi.GPIO\n"
      ],
      "metadata": {
        "id": "fEsAgGKNyD2e"
      },
      "execution_count": null,
      "outputs": []
    }
  ]
}